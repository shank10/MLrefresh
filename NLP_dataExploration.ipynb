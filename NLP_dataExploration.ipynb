{
  "nbformat": 4,
  "nbformat_minor": 0,
  "metadata": {
    "colab": {
      "name": "NLP_dataExploration.ipynb",
      "provenance": [],
      "authorship_tag": "ABX9TyMKyW5cvGvb9UhdgrMa9Kbk",
      "include_colab_link": true
    },
    "kernelspec": {
      "name": "python3",
      "display_name": "Python 3"
    }
  },
  "cells": [
    {
      "cell_type": "markdown",
      "metadata": {
        "id": "view-in-github",
        "colab_type": "text"
      },
      "source": [
        "<a href=\"https://colab.research.google.com/github/shank10/MLrefresh/blob/main/NLP_dataExploration.ipynb\" target=\"_parent\"><img src=\"https://colab.research.google.com/assets/colab-badge.svg\" alt=\"Open In Colab\"/></a>"
      ]
    },
    {
      "cell_type": "code",
      "metadata": {
        "id": "R3UGO5X5sK6h"
      },
      "source": [
        "import pandas as pd\r\n",
        "df = pd.read_csv(\"/content/Womens Clothing E-Commerce Reviews.csv\")"
      ],
      "execution_count": 11,
      "outputs": []
    },
    {
      "cell_type": "code",
      "metadata": {
        "colab": {
          "base_uri": "https://localhost:8080/"
        },
        "id": "ig2_HRlZaeZ-",
        "outputId": "7a6ecd90-86e1-4584-fa2d-3ba0761b1b37"
      },
      "source": [
        "df.head()\r\n",
        "df.columns"
      ],
      "execution_count": 4,
      "outputs": [
        {
          "output_type": "execute_result",
          "data": {
            "text/plain": [
              "Index(['Unnamed: 0', 'Clothing ID', 'Age', 'Title', 'Review Text', 'Rating',\n",
              "       'Recommended IND', 'Positive Feedback Count', 'Division Name',\n",
              "       'Department Name', 'Class Name'],\n",
              "      dtype='object')"
            ]
          },
          "metadata": {
            "tags": []
          },
          "execution_count": 4
        }
      ]
    },
    {
      "cell_type": "markdown",
      "metadata": {
        "id": "jWPearvteTmd"
      },
      "source": [
        "Adding three columns (features) to the dataframe:\r\n",
        "1. polarity to refect the sentiment of the review\r\n",
        "2. The length of the review\r\n",
        "3. Word counts of the review"
      ]
    },
    {
      "cell_type": "code",
      "metadata": {
        "id": "clPVhcS3bDJd"
      },
      "source": [
        "from textblob import TextBlob\r\n",
        "df.drop('Unnamed: 0', axis=1, inplace=True)\r\n",
        "df.drop('Title', axis=1, inplace=True)\r\n",
        "df = df[~df['Review Text'].isnull()]\r\n",
        "\r\n",
        "def preprocess(ReviewText):\r\n",
        "    ReviewText = ReviewText.str.replace(\"(<br/>)\", \"\")\r\n",
        "    ReviewText = ReviewText.str.replace('(<a).*(>).*(</a>)', '')\r\n",
        "    ReviewText = ReviewText.str.replace('(&amp)', '')\r\n",
        "    ReviewText = ReviewText.str.replace('(&gt)', '')\r\n",
        "    ReviewText = ReviewText.str.replace('(&lt)', '')\r\n",
        "    ReviewText = ReviewText.str.replace('(\\xa0)', ' ')  \r\n",
        "    return ReviewText\r\n",
        "df['Review Text'] = preprocess(df['Review Text'])\r\n",
        "\r\n",
        "df['polarity'] = df['Review Text'].map(lambda text: TextBlob(text).sentiment.polarity)\r\n",
        "df['review_len'] = df['Review Text'].astype(str).apply(len)\r\n",
        "df['word_count'] = df['Review Text'].apply(lambda x: len(str(x).split()))"
      ],
      "execution_count": 12,
      "outputs": []
    },
    {
      "cell_type": "markdown",
      "metadata": {
        "id": "6-zUU4B0epX2"
      },
      "source": [
        "Review few sample reviews based on derived sentiment. Replace '<0' with ==1 or ==0 to review few of the positive and neutral reviews"
      ]
    },
    {
      "cell_type": "code",
      "metadata": {
        "colab": {
          "base_uri": "https://localhost:8080/"
        },
        "id": "FcE1QJAkdTIf",
        "outputId": "8056ad21-d30e-4748-b401-24ac70b16524"
      },
      "source": [
        "print('5 random reviews with the highest positive sentiment polarity: \\n')\r\n",
        "cl = df.loc[df.polarity <0, ['Review Text']].sample(5).values\r\n",
        "for c in cl:\r\n",
        "    print(c[0])"
      ],
      "execution_count": 17,
      "outputs": [
        {
          "output_type": "stream",
          "text": [
            "5 random reviews with the highest positive sentiment polarity: \n",
            "\n",
            "This dress is super cute, flattering and well made but it runs very small. i am usually a 6 so from other reviews i ordered an 8 and it is still tight in the hip area. it zips but the fabric pulls a bit in the front and it rides up when i walk. i am going to try and exchange it for a 10 because i think i'll get lots of wear out of it.\n",
            "This romper is cute. i won't deny that. however, the rayon fabric made me really feel like i was wearing pajamas. i was afraid it would wrinkle horribly. however, the real problem with this romper is how hard it is to get on and off your shoulders. i'm short, but have a little wider shoulders, so, perhaps that was the issue. it seems like another reviewer had the same problem. there are only two snaps from the waist up and nothing to open it further from the waist down, so, i had to do some cont\n",
            "I ordered this dress in the green color. the dress did not look like the picture. i returned the dress since it looked like something to wear to a farm barnyard dance. i returned the dress.\n",
            "Runs large and it also had a small hole in the back had to return it.\n",
            "Not sure why this dress was once backordered? if you have a big chested basically falls from your chest straight down and gives you know figure. disappointing. i will be returning it. not meant for big chested fit woman.\n"
          ],
          "name": "stdout"
        }
      ]
    }
  ]
}