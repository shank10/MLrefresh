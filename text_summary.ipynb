{
  "nbformat": 4,
  "nbformat_minor": 0,
  "metadata": {
    "colab": {
      "name": "text_summary.ipynb",
      "provenance": [],
      "authorship_tag": "ABX9TyP5rkDJcS4DjaC7NRDQxXSG",
      "include_colab_link": true
    },
    "kernelspec": {
      "name": "python3",
      "display_name": "Python 3"
    }
  },
  "cells": [
    {
      "cell_type": "markdown",
      "metadata": {
        "id": "view-in-github",
        "colab_type": "text"
      },
      "source": [
        "<a href=\"https://colab.research.google.com/github/shank10/MLrefresh/blob/main/text_summary.ipynb\" target=\"_parent\"><img src=\"https://colab.research.google.com/assets/colab-badge.svg\" alt=\"Open In Colab\"/></a>"
      ]
    },
    {
      "cell_type": "code",
      "metadata": {
        "id": "OHQ7ksHYGAwJ"
      },
      "source": [
        "#Trying something really simple. Need to build on it.\r\n",
        "#Text summary\r\n",
        "import nltk\r\n",
        "import string\r\n",
        "from heapq import nlargest"
      ],
      "execution_count": 1,
      "outputs": []
    },
    {
      "cell_type": "code",
      "metadata": {
        "colab": {
          "base_uri": "https://localhost:8080/"
        },
        "id": "OjFBTq3BJupM",
        "outputId": "1bd6c366-713d-4059-faad-6c587e296c83"
      },
      "source": [
        "nltk.download('stopwords')\r\n",
        "nltk.download('punkt')"
      ],
      "execution_count": 8,
      "outputs": [
        {
          "output_type": "stream",
          "text": [
            "[nltk_data] Downloading package stopwords to /root/nltk_data...\n",
            "[nltk_data]   Package stopwords is already up-to-date!\n",
            "[nltk_data] Downloading package punkt to /root/nltk_data...\n",
            "[nltk_data]   Unzipping tokenizers/punkt.zip.\n"
          ],
          "name": "stdout"
        },
        {
          "output_type": "execute_result",
          "data": {
            "text/plain": [
              "True"
            ]
          },
          "metadata": {
            "tags": []
          },
          "execution_count": 8
        }
      ]
    },
    {
      "cell_type": "code",
      "metadata": {
        "colab": {
          "base_uri": "https://localhost:8080/"
        },
        "id": "pTPWnLdBGUja",
        "outputId": "61f98f97-0296-4dc0-ea16-680f007774fb"
      },
      "source": [
        "text = \"The seventh round of talks between the Centre and the protesting farmers will be held today with two key issues still on board the repeal of the three agriculture laws and giving legal status to the minimum support price guarantee in the next round of talks. The farmers, camping out at the Delhi borders amid the bitter cold and rains, have warned that they will hold a tractor rally on Republic Day if their demands are not met. In the last round of meetings, the Centre said the two sides had come to an understanding on two of the four demands of the farmers withdrawal of the Electricity Amendment Bill and the penal provisions for stubble burning in the Air Quality Commission Ordinance. But the deadlock has persisted over the repeal of the three farm laws passed in September that had the farmers up in arms. The farmers representatives who attended the last round of meeting on December 30, said the government has indicated that it would not repeal the laws, citing the long and cumbersome process required. The government also made it clear that it is not ready for legally enforced support prices for produce and said a committee can be formed to look into it. The farmers have taken a hard line on the issue, saying they will hold a tractor rally on the GT-Karnal road on January 6 if their demands are not met. If the government doesn't agree to our demands, we will start marching towards Delhi from Shahjahanpur border next week, Swaraj India chief Yogendra Yadav had said. There are also plans to hold a rally on January 26, the Republic Day.\"\r\n",
        "if text.count(\". \") > 20:\r\n",
        "    length = int(round(text.count(\". \")/10, 0))\r\n",
        "else:\r\n",
        "    length = 1\r\n",
        "\r\n",
        "nopuch =[char for char in text if char not in string.punctuation]\r\n",
        "nopuch = \"\".join(nopuch)\r\n",
        "\r\n",
        "processed_text = [word for word in nopuch.split() if word.lower() not in nltk.corpus.stopwords.words('english')]\r\n",
        "\r\n",
        "word_freq = {}\r\n",
        "for word in processed_text:\r\n",
        "    if word not in word_freq:\r\n",
        "        word_freq[word] = 1\r\n",
        "    else:\r\n",
        "        word_freq[word] = word_freq[word] + 1\r\n",
        "\r\n",
        "max_freq = max(word_freq.values())\r\n",
        "for word in word_freq.keys():\r\n",
        "    word_freq[word] = (word_freq[word]/max_freq)\r\n",
        "\r\n",
        "sent_list = nltk.sent_tokenize(text)\r\n",
        "sent_score = {}\r\n",
        "for sent in sent_list:\r\n",
        "    for word in nltk.word_tokenize(sent.lower()):\r\n",
        "        if word in word_freq.keys():\r\n",
        "            if sent not in sent_score.keys():\r\n",
        "                sent_score[sent] = word_freq[word]\r\n",
        "            else:\r\n",
        "                sent_score[sent] = sent_score[sent] + word_freq[word]\r\n",
        "\r\n",
        "summary_sents = nlargest(length, sent_score, key=sent_score.get)\r\n",
        "summary = \" \".join(summary_sents)\r\n",
        "print(summary)"
      ],
      "execution_count": 9,
      "outputs": [
        {
          "output_type": "stream",
          "text": [
            "The seventh round of talks between the Centre and the protesting farmers will be held today with two key issues still on board the repeal of the three agriculture laws and giving legal status to the minimum support price guarantee in the next round of talks.\n"
          ],
          "name": "stdout"
        }
      ]
    }
  ]
}