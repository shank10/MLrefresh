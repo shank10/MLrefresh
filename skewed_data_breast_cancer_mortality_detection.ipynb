{
  "nbformat": 4,
  "nbformat_minor": 0,
  "metadata": {
    "colab": {
      "name": "skewed_data breast cancer mortality detection.ipynb",
      "provenance": [],
      "authorship_tag": "ABX9TyPDqBEhKLsyq5k5rZFrZdqL",
      "include_colab_link": true
    },
    "kernelspec": {
      "name": "python3",
      "display_name": "Python 3"
    }
  },
  "cells": [
    {
      "cell_type": "markdown",
      "metadata": {
        "id": "view-in-github",
        "colab_type": "text"
      },
      "source": [
        "<a href=\"https://colab.research.google.com/github/shank10/MLrefresh/blob/main/skewed_data_breast_cancer_mortality_detection.ipynb\" target=\"_parent\"><img src=\"https://colab.research.google.com/assets/colab-badge.svg\" alt=\"Open In Colab\"/></a>"
      ]
    },
    {
      "cell_type": "code",
      "metadata": {
        "colab": {
          "base_uri": "https://localhost:8080/"
        },
        "id": "Do03NpPuZb-a",
        "outputId": "ec5c47bb-b505-4d67-8872-d8ed7fc6fea9"
      },
      "source": [
        "# load and summarize the dataset\r\n",
        "from pandas import read_csv\r\n",
        "# define the dataset location\r\n",
        "filename ='/content/haberman.csv'\r\n",
        "# define the dataset column names\r\n",
        "columns = ['age','year','nodes','class']\r\n",
        "# load the csv file as a data frame\r\n",
        "dataframe = read_csv(filename, header=None, names=columns)\r\n",
        "# summarize each column\r\n",
        "report = dataframe.describe()\r\n",
        "print(dataframe.head())\r\n",
        "#All values are int. We should look at it visually too.\r\n",
        "print(report)\r\n",
        "#All operations were performed between 1958 to 1969"
      ],
      "execution_count": 3,
      "outputs": [
        {
          "output_type": "stream",
          "text": [
            "   age  year  nodes  class\n",
            "0   30    64      1      1\n",
            "1   30    62      3      1\n",
            "2   30    65      0      1\n",
            "3   31    59      2      1\n",
            "4   31    65      4      1\n",
            "              age        year       nodes       class\n",
            "count  306.000000  306.000000  306.000000  306.000000\n",
            "mean    52.457516   62.852941    4.026144    1.264706\n",
            "std     10.803452    3.249405    7.189654    0.441899\n",
            "min     30.000000   58.000000    0.000000    1.000000\n",
            "25%     44.000000   60.000000    0.000000    1.000000\n",
            "50%     52.000000   63.000000    1.000000    1.000000\n",
            "75%     60.750000   65.750000    4.000000    2.000000\n",
            "max     83.000000   69.000000   52.000000    2.000000\n"
          ],
          "name": "stdout"
        }
      ]
    },
    {
      "cell_type": "code",
      "metadata": {
        "colab": {
          "base_uri": "https://localhost:8080/",
          "height": 281
        },
        "id": "PmYgAuwgcIBr",
        "outputId": "2f57204a-97c3-4f79-b69d-81fe32a96879"
      },
      "source": [
        "from matplotlib import pyplot\r\n",
        "%matplotlib inline\r\n",
        "dataframe['class'].value_counts()\r\n",
        "dataframe.hist()\r\n",
        "pyplot.show()\r\n",
        "#So class 2 is about 25% of the overall population\r\n",
        "#What the heck, lets get the exact percentage"
      ],
      "execution_count": 9,
      "outputs": [
        {
          "output_type": "display_data",
          "data": {
            "image/png": "[encoded data removed]",
            "text/plain": [
              "<Figure size 432x288 with 4 Axes>"
            ]
          },
          "metadata": {
            "tags": [],
            "needs_background": "light"
          }
        }
      ]
    },
    {
      "cell_type": "code",
      "metadata": {
        "colab": {
          "base_uri": "https://localhost:8080/"
        },
        "id": "JcBwBUNkgtgo",
        "outputId": "94123351-ee56-4b12-f961-b24e07427969"
      },
      "source": [
        "from collections import Counter\r\n",
        "# summarize the class distribution\r\n",
        "target = dataframe['class'].values\r\n",
        "counter = Counter(target)\r\n",
        "for k,v in counter.items():\r\n",
        "  per = v / len(target) * 100\r\n",
        "  print('Class=%d, Count=%d, Percentage=%.3f%%'% (k, v, per))"
      ],
      "execution_count": 12,
      "outputs": [
        {
          "output_type": "stream",
          "text": [
            "Class=1, Count=225, Percentage=73.529%\n",
            "Class=2, Count=81, Percentage=26.471%\n"
          ],
          "name": "stdout"
        }
      ]
    },
    {
      "cell_type": "code",
      "metadata": {
        "id": "WTy66YlDawE3"
      },
      "source": [
        "# So the skew exists. And this should prompt us to evaluate various algos\r\n",
        "# Lets evaluate candidate models using repeated stratifiedk-fold cross-validation\r\n",
        "# We will use K=10, which means each training set will contain 306/10 or 30 samples. \r\n",
        "# Also we should maintain the same distribution of the two classes in each batch 74:26\r\n",
        "# baseline model and test harness for the haberman datasetfrom collections import Counter\r\n",
        "from numpy import mean, std\r\n",
        "from pandas import read_csv\r\n",
        "from sklearn.preprocessing import LabelEncoder\r\n",
        "from sklearn.model_selection import cross_val_score\r\n",
        "from sklearn.model_selection import RepeatedStratifiedKFold\r\n",
        "from sklearn.metrics import brier_score_loss\r\n",
        "from sklearn.metrics import make_scorer\r\n",
        "from sklearn.dummy import DummyClassifier\r\n",
        "\r\n"
      ],
      "execution_count": 13,
      "outputs": []
    },
    {
      "cell_type": "code",
      "metadata": {
        "colab": {
          "base_uri": "https://localhost:8080/"
        },
        "id": "EU1m63fV3sz8",
        "outputId": "2470a1ec-067f-481b-8b14-2892177250dc"
      },
      "source": [
        "# load the dataset\r\n",
        "def load_dataset(full_path):\r\n",
        "# load the dataset as a numpy array\r\n",
        "  data = read_csv(full_path, header=None)\r\n",
        "  # retrieve numpy array\r\n",
        "  data = data.values\r\n",
        "  # split into input and output elements\r\n",
        "  X, y = data[:, :-1], data[:, -1]\r\n",
        "  # label encode the target variable to have the classes 0 and 1\r\n",
        "  y = LabelEncoder().fit_transform(y)\r\n",
        "  return X, y\r\n",
        "# calculate brier skill score (BSS)\r\n",
        "def brier_skill_score(y_true, y_prob):\r\n",
        "  # calculate reference brier score\r\n",
        "  ref_probs = [0.26471 for _ in range(len(y_true))]\r\n",
        "  bs_ref = brier_score_loss(y_true, ref_probs)\r\n",
        "  # calculate model brier score\r\n",
        "  bs_model = brier_score_loss(y_true, y_prob)\r\n",
        "  # calculate skill score\r\n",
        "  return 1.0 - (bs_model / bs_ref)\r\n",
        "# evaluate a model\r\n",
        "def evaluate_model(X, y, model):\r\n",
        "  # define evaluation procedure\r\n",
        "  cv = RepeatedStratifiedKFold(n_splits=10, n_repeats=3, random_state=1)\r\n",
        "  # define the model evaluation metric\r\n",
        "  metric = make_scorer(brier_skill_score, needs_proba=True)\r\n",
        "  # evaluate models\r\n",
        "  scores = cross_val_score(model, X, y, scoring=metric, cv=cv, n_jobs=-1)\r\n",
        "  return scores\r\n",
        "# define the location of the dataset\r\n",
        "full_path ='/content/haberman.csv'\r\n",
        "# load the dataset\r\n",
        "X, y = load_dataset(full_path)\r\n",
        "# summarize the loaded dataset\r\n",
        "print(X.shape, y.shape, Counter(y))\r\n",
        "# define the reference model\r\n",
        "model = DummyClassifier(strategy='prior')\r\n",
        "# evaluate the model\r\n",
        "scores = evaluate_model(X, y, model)\r\n",
        "print('Mean BSS: %.3f (%.3f)'% (mean(scores), std(scores)))"
      ],
      "execution_count": 16,
      "outputs": [
        {
          "output_type": "stream",
          "text": [
            "(306, 3) (306,) Counter({0: 225, 1: 81})\n",
            "Mean BSS: -0.000 (0.000)\n"
          ],
          "name": "stdout"
        }
      ]
    }
  ]
}