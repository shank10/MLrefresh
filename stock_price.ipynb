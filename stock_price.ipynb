{
  "nbformat": 4,
  "nbformat_minor": 0,
  "metadata": {
    "colab": {
      "name": "stock_price.ipynb",
      "provenance": [],
      "authorship_tag": "ABX9TyNJryYuPHvwrsamUnsDKclP",
      "include_colab_link": true
    },
    "kernelspec": {
      "name": "python3",
      "display_name": "Python 3"
    }
  },
  "cells": [
    {
      "cell_type": "markdown",
      "metadata": {
        "id": "view-in-github",
        "colab_type": "text"
      },
      "source": [
        "<a href=\"https://colab.research.google.com/github/shank10/MLrefresh/blob/main/stock_price.ipynb\" target=\"_parent\"><img src=\"https://colab.research.google.com/assets/colab-badge.svg\" alt=\"Open In Colab\"/></a>"
      ]
    },
    {
      "cell_type": "code",
      "metadata": {
        "id": "D-t4HoqATbaF"
      },
      "source": [
        "from datetime import datetime, timedelta\r\n",
        "import pandas as pd\r\n",
        "import numpy as np\r\n",
        "import datetime\r\n",
        "import csv\r\n",
        "import pandas as pd\r\n",
        "from sklearn import preprocessing\r\n",
        "from sklearn.model_selection import train_test_split\r\n",
        "from sklearn.linear_model import LinearRegression"
      ],
      "execution_count": 38,
      "outputs": []
    },
    {
      "cell_type": "code",
      "metadata": {
        "id": "UjDrug-leVBa"
      },
      "source": [
        ""
      ],
      "execution_count": null,
      "outputs": []
    },
    {
      "cell_type": "code",
      "metadata": {
        "id": "ZU1OEe5C7ZIu"
      },
      "source": [
        "def prepare_data(df,forecast_col,forecast_out,test_size):\r\n",
        "    label = df[forecast_col].shift(-forecast_out) #creating new column called label with the last 5 rows are nan\r\n",
        "    X = np.array(df[[forecast_col]]) #creating the feature array\r\n",
        "    X = preprocessing.scale(X) #processing the feature array\r\n",
        "    X_lately = X[-forecast_out:] #creating the column i want to use later in the predicting method\r\n",
        "    X = X[:-forecast_out] # X that will contain the training and testing\r\n",
        "    label.dropna(inplace=True) #dropping na values\r\n",
        "    y = np.array(label)  # assigning Y\r\n",
        "    X_train, X_test, Y_train, Y_test = train_test_split(X, y, test_size=test_size, random_state=0) #cross validation\r\n",
        "\r\n",
        "    response = [X_train,X_test , Y_train, Y_test , X_lately]\r\n",
        "    return response"
      ],
      "execution_count": 46,
      "outputs": []
    },
    {
      "cell_type": "code",
      "metadata": {
        "id": "wt6EH80b7qve"
      },
      "source": [
        "forecast_col = 'Close Price'\r\n",
        "forecast_out = 7\r\n",
        "test_size = 0.2"
      ],
      "execution_count": 47,
      "outputs": []
    },
    {
      "cell_type": "code",
      "metadata": {
        "colab": {
          "base_uri": "https://localhost:8080/"
        },
        "id": "qKz1o8JR8AJp",
        "outputId": "3b28d33d-a33f-421c-b533-c74e9ce1d793"
      },
      "source": [
        "X_train, X_test, Y_train, Y_test , X_lately =prepare_data(df,forecast_col,forecast_out,test_size);\r\n",
        "learner = LinearRegression() #initializing linear regression model\r\n",
        "learner.fit(X_train,Y_train) #training the linear regression model"
      ],
      "execution_count": 48,
      "outputs": [
        {
          "output_type": "execute_result",
          "data": {
            "text/plain": [
              "LinearRegression(copy_X=True, fit_intercept=True, n_jobs=None, normalize=False)"
            ]
          },
          "metadata": {
            "tags": []
          },
          "execution_count": 48
        }
      ]
    },
    {
      "cell_type": "code",
      "metadata": {
        "colab": {
          "base_uri": "https://localhost:8080/"
        },
        "id": "hYyyik9u8TcE",
        "outputId": "c835e679-c196-49a3-dbaa-015191b9f620"
      },
      "source": [
        "score=learner.score(X_test,Y_test)#testing the linear regression model\r\n",
        "forecast= learner.predict(X_lately) #set that will contain the forecasted data\r\n",
        "response={}#creting json object\r\n",
        "response['test_score']=score\r\n",
        "response['forecast_set']=forecast\r\n",
        "\r\n",
        "print(response)"
      ],
      "execution_count": 49,
      "outputs": [
        {
          "output_type": "stream",
          "text": [
            "{'test_score': 0.9904407692367692, 'forecast_set': array([383.89499197, 384.15589578, 384.92857246, 385.580832  ,\n",
            "       388.11962682, 392.90620836, 392.43457454])}\n"
          ],
          "name": "stdout"
        }
      ]
    }
  ]
}